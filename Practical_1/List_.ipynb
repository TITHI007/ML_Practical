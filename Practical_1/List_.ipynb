{
  "nbformat": 4,
  "nbformat_minor": 0,
  "metadata": {
    "colab": {
      "name": "Untitled3.ipynb",
      "provenance": [],
      "collapsed_sections": []
    },
    "kernelspec": {
      "name": "python3",
      "display_name": "Python 3"
    }
  },
  "cells": [
    {
      "cell_type": "code",
      "metadata": {
        "id": "BeJR1yo-2fFa"
      },
      "source": [
        "#Function on list \r\n",
        "#Author:-Tithi Patel"
      ],
      "execution_count": null,
      "outputs": []
    },
    {
      "cell_type": "code",
      "metadata": {
        "colab": {
          "base_uri": "https://localhost:8080/"
        },
        "id": "ATOzCKz5rGUs",
        "outputId": "ebce7e97-d45d-4fd2-ba23-aff129b6ba0c"
      },
      "source": [
        "#Printing simple list\r\n",
        "x=[\"Tithi\",20,\"CSE\",\"Python\"]\r\n",
        "print(x)\r\n",
        "#negative indexing\r\n",
        "print(x[-1])"
      ],
      "execution_count": 27,
      "outputs": [
        {
          "output_type": "stream",
          "text": [
            "['Tithi', 20, 'CSE', 'Python']\n",
            "Python\n"
          ],
          "name": "stdout"
        }
      ]
    },
    {
      "cell_type": "code",
      "metadata": {
        "colab": {
          "base_uri": "https://localhost:8080/"
        },
        "id": "-2awMgpusK4U",
        "outputId": "2fec68a3-50a9-4cd0-d49e-4b2ec2c883ac"
      },
      "source": [
        "#Printing the length of list\r\n",
        "print(len(x))"
      ],
      "execution_count": 3,
      "outputs": [
        {
          "output_type": "stream",
          "text": [
            "4\n"
          ],
          "name": "stdout"
        }
      ]
    },
    {
      "cell_type": "code",
      "metadata": {
        "colab": {
          "base_uri": "https://localhost:8080/"
        },
        "id": "rJFoxV3wsnOO",
        "outputId": "29ba96ca-0818-456f-eba7-a7eacd8a8416"
      },
      "source": [
        "#inserting element with insert keyword\r\n",
        "x.insert(1,\"Patel\")\r\n",
        "print(x)"
      ],
      "execution_count": 4,
      "outputs": [
        {
          "output_type": "stream",
          "text": [
            "['Tithi', 'Patel', 20, 'CSE', 'Python']\n"
          ],
          "name": "stdout"
        }
      ]
    },
    {
      "cell_type": "code",
      "metadata": {
        "colab": {
          "base_uri": "https://localhost:8080/"
        },
        "id": "WeCBNz9Qxp6A",
        "outputId": "4567d909-cfd9-4eaa-e61c-06d8ac686dce"
      },
      "source": [
        "#remoing an element\r\n",
        "x.remove(\"CSE\")\r\n",
        "print(x)"
      ],
      "execution_count": 5,
      "outputs": [
        {
          "output_type": "stream",
          "text": [
            "['Tithi', 'Patel', 20, 'Python']\n"
          ],
          "name": "stdout"
        }
      ]
    },
    {
      "cell_type": "code",
      "metadata": {
        "colab": {
          "base_uri": "https://localhost:8080/"
        },
        "id": "XtKEc8dQx2o4",
        "outputId": "30e7e699-2e49-4a9d-8d9d-3fb8e543dd27"
      },
      "source": [
        "#remoing an element through index\r\n",
        "x.pop(2)\r\n",
        "print(x)"
      ],
      "execution_count": 6,
      "outputs": [
        {
          "output_type": "stream",
          "text": [
            "['Tithi', 'Patel', 'Python']\n"
          ],
          "name": "stdout"
        }
      ]
    },
    {
      "cell_type": "code",
      "metadata": {
        "colab": {
          "base_uri": "https://localhost:8080/"
        },
        "id": "Q4X7v4yuyCYs",
        "outputId": "88408bf6-d068-420c-b032-b5298555a4c3"
      },
      "source": [
        "#adding element at end\r\n",
        "x.append(20)\r\n",
        "print(x)"
      ],
      "execution_count": 8,
      "outputs": [
        {
          "output_type": "stream",
          "text": [
            "['Tithi', 'Patel', 'Python', 20]\n"
          ],
          "name": "stdout"
        }
      ]
    },
    {
      "cell_type": "code",
      "metadata": {
        "colab": {
          "base_uri": "https://localhost:8080/",
          "height": 195
        },
        "id": "8XmSMJ37yW3E",
        "outputId": "d3d210c2-6b15-4378-daf5-d267e6696e32"
      },
      "source": [
        "#implementing sort \r\n",
        "x.sort()\r\n",
        "print(x)\r\n",
        "#not supported as the the list contains 2 types of elements that is string and int "
      ],
      "execution_count": 9,
      "outputs": [
        {
          "output_type": "error",
          "ename": "TypeError",
          "evalue": "ignored",
          "traceback": [
            "\u001b[0;31m---------------------------------------------------------------------------\u001b[0m",
            "\u001b[0;31mTypeError\u001b[0m                                 Traceback (most recent call last)",
            "\u001b[0;32m<ipython-input-9-329afe61bcb8>\u001b[0m in \u001b[0;36m<module>\u001b[0;34m()\u001b[0m\n\u001b[1;32m      1\u001b[0m \u001b[0;31m#implementing sort\u001b[0m\u001b[0;34m\u001b[0m\u001b[0;34m\u001b[0m\u001b[0;34m\u001b[0m\u001b[0m\n\u001b[0;32m----> 2\u001b[0;31m \u001b[0mx\u001b[0m\u001b[0;34m.\u001b[0m\u001b[0msort\u001b[0m\u001b[0;34m(\u001b[0m\u001b[0;34m)\u001b[0m\u001b[0;34m\u001b[0m\u001b[0;34m\u001b[0m\u001b[0m\n\u001b[0m\u001b[1;32m      3\u001b[0m \u001b[0mprint\u001b[0m\u001b[0;34m(\u001b[0m\u001b[0mx\u001b[0m\u001b[0;34m)\u001b[0m\u001b[0;34m\u001b[0m\u001b[0;34m\u001b[0m\u001b[0m\n",
            "\u001b[0;31mTypeError\u001b[0m: '<' not supported between instances of 'int' and 'str'"
          ]
        }
      ]
    },
    {
      "cell_type": "code",
      "metadata": {
        "colab": {
          "base_uri": "https://localhost:8080/"
        },
        "id": "KN-B0Zh7ywzU",
        "outputId": "4414e74f-3a99-4291-f631-c98f58ce84c5"
      },
      "source": [
        "#implementing sort \r\n",
        "y=[10,33,76,54,98,9,64,66]\r\n",
        "y.sort()\r\n",
        "print(y)"
      ],
      "execution_count": 11,
      "outputs": [
        {
          "output_type": "stream",
          "text": [
            "[9, 10, 33, 54, 64, 66, 76, 98]\n"
          ],
          "name": "stdout"
        }
      ]
    },
    {
      "cell_type": "code",
      "metadata": {
        "colab": {
          "base_uri": "https://localhost:8080/"
        },
        "id": "JgZoea3ky-jh",
        "outputId": "49c1866d-03c4-4921-edbe-6616a8b3e005"
      },
      "source": [
        "#reversing the elements in list \r\n",
        "x.reverse()\r\n",
        "print(x)\r\n",
        "y.reverse()\r\n",
        "print(y)"
      ],
      "execution_count": 15,
      "outputs": [
        {
          "output_type": "stream",
          "text": [
            "['Patel', 'Python', 'Tithi', 20]\n",
            "[98, 76, 66, 64, 54, 33, 10, 9]\n"
          ],
          "name": "stdout"
        }
      ]
    },
    {
      "cell_type": "code",
      "metadata": {
        "colab": {
          "base_uri": "https://localhost:8080/"
        },
        "id": "ZUyGaAtezUHe",
        "outputId": "2254a923-6673-48a5-a1c1-0649fdceec38"
      },
      "source": [
        "#display the number of the element present in the list \r\n",
        "x.append(20)\r\n",
        "print(x)\r\n",
        "print(x.count(20))"
      ],
      "execution_count": 21,
      "outputs": [
        {
          "output_type": "stream",
          "text": [
            "['Patel', 'Python', 'Tithi', 20, 20, 20, 20, 20, 20]\n",
            "6\n"
          ],
          "name": "stdout"
        }
      ]
    },
    {
      "cell_type": "code",
      "metadata": {
        "colab": {
          "base_uri": "https://localhost:8080/"
        },
        "id": "Gp1G8oxSz84a",
        "outputId": "3ffa737c-0294-4aef-e00e-4681e962a24e"
      },
      "source": [
        "#clearing the element from the list and making that list empty \r\n",
        "x.clear()\r\n",
        "print(x)"
      ],
      "execution_count": 22,
      "outputs": [
        {
          "output_type": "stream",
          "text": [
            "[]\n"
          ],
          "name": "stdout"
        }
      ]
    },
    {
      "cell_type": "code",
      "metadata": {
        "colab": {
          "base_uri": "https://localhost:8080/",
          "height": 195
        },
        "id": "QV51eP_W0S6H",
        "outputId": "27edc372-8727-4e9a-8c01-45cfa55804a6"
      },
      "source": [
        "#deleting the list x \r\n",
        "del(x)\r\n",
        "print(x)\r\n",
        "#as deleted there won't be empty lis also"
      ],
      "execution_count": 23,
      "outputs": [
        {
          "output_type": "error",
          "ename": "NameError",
          "evalue": "ignored",
          "traceback": [
            "\u001b[0;31m---------------------------------------------------------------------------\u001b[0m",
            "\u001b[0;31mNameError\u001b[0m                                 Traceback (most recent call last)",
            "\u001b[0;32m<ipython-input-23-b90e4002abef>\u001b[0m in \u001b[0;36m<module>\u001b[0;34m()\u001b[0m\n\u001b[1;32m      1\u001b[0m \u001b[0;31m#deleting the list x\u001b[0m\u001b[0;34m\u001b[0m\u001b[0;34m\u001b[0m\u001b[0;34m\u001b[0m\u001b[0m\n\u001b[1;32m      2\u001b[0m \u001b[0;32mdel\u001b[0m\u001b[0;34m(\u001b[0m\u001b[0mx\u001b[0m\u001b[0;34m)\u001b[0m\u001b[0;34m\u001b[0m\u001b[0;34m\u001b[0m\u001b[0m\n\u001b[0;32m----> 3\u001b[0;31m \u001b[0mprint\u001b[0m\u001b[0;34m(\u001b[0m\u001b[0mx\u001b[0m\u001b[0;34m)\u001b[0m\u001b[0;34m\u001b[0m\u001b[0;34m\u001b[0m\u001b[0m\n\u001b[0m",
            "\u001b[0;31mNameError\u001b[0m: name 'x' is not defined"
          ]
        }
      ]
    },
    {
      "cell_type": "code",
      "metadata": {
        "colab": {
          "base_uri": "https://localhost:8080/"
        },
        "id": "WRanVbHT0njh",
        "outputId": "32f7cfa1-eec8-4581-ea38-6c825151f4b0"
      },
      "source": [
        "#list inside list \r\n",
        "#join to list \r\n",
        "x=[34,[\"XYZ\",56],45,66]\r\n",
        "print(x)\r\n",
        "print(y)\r\n",
        "z=x+y#x.extend(y)\r\n",
        "print(z)"
      ],
      "execution_count": 24,
      "outputs": [
        {
          "output_type": "stream",
          "text": [
            "[34, ['XYZ', 56], 45, 66]\n",
            "[98, 76, 66, 64, 54, 33, 10, 9]\n",
            "[34, ['XYZ', 56], 45, 66, 98, 76, 66, 64, 54, 33, 10, 9]\n"
          ],
          "name": "stdout"
        }
      ]
    },
    {
      "cell_type": "code",
      "metadata": {
        "colab": {
          "base_uri": "https://localhost:8080/"
        },
        "id": "CfEevoX81Oeh",
        "outputId": "0566e9de-dfe6-44b6-fe3e-ffedcd083259"
      },
      "source": [
        "# printing list using loop\r\n",
        "for i in range(len(z)):\r\n",
        "  print(z[i])"
      ],
      "execution_count": 26,
      "outputs": [
        {
          "output_type": "stream",
          "text": [
            "34\n",
            "['XYZ', 56]\n",
            "45\n",
            "66\n",
            "98\n",
            "76\n",
            "66\n",
            "64\n",
            "54\n",
            "33\n",
            "10\n",
            "9\n"
          ],
          "name": "stdout"
        }
      ]
    }
  ]
}
