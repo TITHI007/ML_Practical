{
  "nbformat": 4,
  "nbformat_minor": 0,
  "metadata": {
    "colab": {
      "name": "numpy_.ipynb",
      "provenance": [],
      "collapsed_sections": []
    },
    "kernelspec": {
      "name": "python3",
      "display_name": "Python 3"
    }
  },
  "cells": [
    {
      "cell_type": "code",
      "metadata": {
        "id": "KMEbTaoi9ZZ2"
      },
      "source": [
        "# Numpy\r\n",
        "# autor: TITHI PATEL"
      ],
      "execution_count": null,
      "outputs": []
    },
    {
      "cell_type": "code",
      "metadata": {
        "colab": {
          "base_uri": "https://localhost:8080/"
        },
        "id": "bFArTETSrBBU",
        "outputId": "cd533826-2b30-4ea9-aee3-315bc0d8c613"
      },
      "source": [
        "# list NUMPY\r\n",
        "import numpy as np\r\n",
        "a=np.array([[1,2,3],[6,5,4],[9,8,7]])\r\n",
        "# PRINTING THE ARRAY\r\n",
        "print(a)\r\n",
        "print(a.shape)"
      ],
      "execution_count": null,
      "outputs": [
        {
          "output_type": "stream",
          "text": [
            "[[1 2 3]\n",
            " [6 5 4]\n",
            " [9 8 7]]\n",
            "(3, 3)\n"
          ],
          "name": "stdout"
        }
      ]
    },
    {
      "cell_type": "code",
      "metadata": {
        "colab": {
          "base_uri": "https://localhost:8080/"
        },
        "id": "R11sJurl9e5k",
        "outputId": "5cb2f5b9-36cc-4caa-cc3d-13dc4530d0fa"
      },
      "source": [
        "# built in type function\r\n",
        "print(type(a))"
      ],
      "execution_count": null,
      "outputs": [
        {
          "output_type": "stream",
          "text": [
            "<class 'numpy.ndarray'>\n"
          ],
          "name": "stdout"
        }
      ]
    },
    {
      "cell_type": "code",
      "metadata": {
        "colab": {
          "base_uri": "https://localhost:8080/"
        },
        "id": "xpKAsv5j-Gko",
        "outputId": "ed28bbd6-8fe8-4f85-da45-84ea91e91127"
      },
      "source": [
        "# tuple numpy\r\n",
        "arr=np.array((1,3,5,7,9))\r\n",
        "print(arr)"
      ],
      "execution_count": null,
      "outputs": [
        {
          "output_type": "stream",
          "text": [
            "[1 3 5 7 9]\n"
          ],
          "name": "stdout"
        }
      ]
    },
    {
      "cell_type": "code",
      "metadata": {
        "colab": {
          "base_uri": "https://localhost:8080/"
        },
        "id": "C3A_7p5--UfO",
        "outputId": "0fc18408-5ef3-4858-ee27-a00b06a2ad55"
      },
      "source": [
        "# dimension check in numpy\r\n",
        "arr=np.array([[[1,2,3],[4,5,6]],[[1,2,3],[4,5,6]]])\r\n",
        "print(arr.ndim)"
      ],
      "execution_count": null,
      "outputs": [
        {
          "output_type": "stream",
          "text": [
            "3\n"
          ],
          "name": "stdout"
        }
      ]
    },
    {
      "cell_type": "code",
      "metadata": {
        "colab": {
          "base_uri": "https://localhost:8080/"
        },
        "id": "Ve1PFI1L_R-E",
        "outputId": "62bdba94-933a-4a42-e713-bdde46d6356e"
      },
      "source": [
        "# copy and view\r\n",
        "# copy\r\n",
        "a=np.array([1,2,3,4,5])\r\n",
        "x=a.copy()\r\n",
        "print(a)\r\n",
        "print(x)\r\n",
        "a[0]=42\r\n",
        "print(\"After changing element in a\")\r\n",
        "print(a)\r\n",
        "print(x)\r\n",
        "\r\n",
        "# view\r\n",
        "print(\"-----------------------------------------------------------\")\r\n",
        "arr=np.array([1,2,3,4,5])\r\n",
        "y=arr.view()\r\n",
        "print(arr)\r\n",
        "print(y)\r\n",
        "arr[0]=42\r\n",
        "print(\"After changing element in arr\")\r\n",
        "print(arr)\r\n",
        "print(y)\r\n",
        "print(\"-----------------------------------------------------------\")\r\n",
        "print(x.base)\r\n",
        "print(y.base)\r\n"
      ],
      "execution_count": null,
      "outputs": [
        {
          "output_type": "stream",
          "text": [
            "[1 2 3 4 5]\n",
            "[1 2 3 4 5]\n",
            "After changing element in a\n",
            "[42  2  3  4  5]\n",
            "[1 2 3 4 5]\n",
            "-----------------------------------------------------------\n",
            "[1 2 3 4 5]\n",
            "[1 2 3 4 5]\n",
            "After changing element in arr\n",
            "[42  2  3  4  5]\n",
            "[42  2  3  4  5]\n",
            "-----------------------------------------------------------\n",
            "None\n",
            "[42  2  3  4  5]\n"
          ],
          "name": "stdout"
        }
      ]
    },
    {
      "cell_type": "code",
      "metadata": {
        "colab": {
          "base_uri": "https://localhost:8080/"
        },
        "id": "HdsgMS_yBQhB",
        "outputId": "b5957161-e05f-4787-cf47-5365fb3093fb"
      },
      "source": [
        "# shape in tuple\r\n",
        "arr=np.array((1,2,3,4,5))\r\n",
        "print(arr.shape)"
      ],
      "execution_count": null,
      "outputs": [
        {
          "output_type": "stream",
          "text": [
            "(5,)\n"
          ],
          "name": "stdout"
        }
      ]
    },
    {
      "cell_type": "code",
      "metadata": {
        "colab": {
          "base_uri": "https://localhost:8080/"
        },
        "id": "4b5KvBJzCC93",
        "outputId": "aa225083-ba14-4ae0-e17d-789fa6cc9a73"
      },
      "source": [
        "# reshaping\r\n",
        "arr=np.array([1,2,3,4,5,6,7,8,9,10,11,12])\r\n",
        "print(arr)\r\n",
        "reshapearr=arr.reshape(2,3,2)\r\n",
        "print(reshapearr)\r\n",
        "newarr=reshapearr.reshape(-1)\r\n",
        "print(newarr)"
      ],
      "execution_count": null,
      "outputs": [
        {
          "output_type": "stream",
          "text": [
            "[ 1  2  3  4  5  6  7  8  9 10 11 12]\n",
            "[[[ 1  2]\n",
            "  [ 3  4]\n",
            "  [ 5  6]]\n",
            "\n",
            " [[ 7  8]\n",
            "  [ 9 10]\n",
            "  [11 12]]]\n",
            "[ 1  2  3  4  5  6  7  8  9 10 11 12]\n"
          ],
          "name": "stdout"
        }
      ]
    },
    {
      "cell_type": "code",
      "metadata": {
        "colab": {
          "base_uri": "https://localhost:8080/"
        },
        "id": "5weyN5xzDpSm",
        "outputId": "fb0e62ee-4750-4d1e-f78f-ccb7b9674689"
      },
      "source": [
        "# iteration \r\n",
        "for x in np.nditer(reshapearr):\r\n",
        "  print(x)\r\n"
      ],
      "execution_count": null,
      "outputs": [
        {
          "output_type": "stream",
          "text": [
            "1\n",
            "2\n",
            "3\n",
            "4\n",
            "5\n",
            "6\n",
            "7\n",
            "8\n",
            "9\n",
            "10\n",
            "11\n",
            "12\n"
          ],
          "name": "stdout"
        }
      ]
    },
    {
      "cell_type": "code",
      "metadata": {
        "colab": {
          "base_uri": "https://localhost:8080/"
        },
        "id": "WaAgK49qFCu8",
        "outputId": "00514093-3b13-4659-ea21-eb1231a96e9f"
      },
      "source": [
        "# joining arrays\r\n",
        "arr1=np.array([[1,2,3],[4,5,6]])\r\n",
        "arr2=np.array([[7,8,9],[10,1,12]])\r\n",
        "arr=np.vstack((arr1,arr2))\r\n",
        "print(arr)\r\n",
        "# along coloumns\r\n",
        "print(\"-----------------------------------------\")\r\n",
        "arr=np.concatenate((arr1,arr2),axis=1)\r\n",
        "print(arr)\r\n",
        "# along row"
      ],
      "execution_count": null,
      "outputs": [
        {
          "output_type": "stream",
          "text": [
            "[[ 1  2  3]\n",
            " [ 4  5  6]\n",
            " [ 7  8  9]\n",
            " [10  1 12]]\n",
            "-----------------------------------------\n",
            "[[ 1  2  3  7  8  9]\n",
            " [ 4  5  6 10  1 12]]\n"
          ],
          "name": "stdout"
        }
      ]
    },
    {
      "cell_type": "code",
      "metadata": {
        "colab": {
          "base_uri": "https://localhost:8080/"
        },
        "id": "mbfnRlSGH7jh",
        "outputId": "39de8248-a99f-4d07-caab-67787d8a4a8a"
      },
      "source": [
        "# splitting array\r\n",
        "arr=np.array([1,2,3,4,5,6])\r\n",
        "newarr=np.array_split(arr,3)\r\n",
        "print(newarr)"
      ],
      "execution_count": null,
      "outputs": [
        {
          "output_type": "stream",
          "text": [
            "[array([1, 2]), array([3, 4]), array([5, 6])]\n"
          ],
          "name": "stdout"
        }
      ]
    },
    {
      "cell_type": "code",
      "metadata": {
        "colab": {
          "base_uri": "https://localhost:8080/"
        },
        "id": "ZELrB8F4JMaA",
        "outputId": "ea9f8125-e2ca-4dd3-ad64-6f57cdfaf717"
      },
      "source": [
        "# locating element\r\n",
        "x=np.where(arr==4)\r\n",
        "print(x)"
      ],
      "execution_count": null,
      "outputs": [
        {
          "output_type": "stream",
          "text": [
            "(array([3]),)\n"
          ],
          "name": "stdout"
        }
      ]
    },
    {
      "cell_type": "code",
      "metadata": {
        "colab": {
          "base_uri": "https://localhost:8080/"
        },
        "id": "bf3gsGGpJvfg",
        "outputId": "96441b7b-0b31-4547-e0e1-a3150184d65f"
      },
      "source": [
        "# search sorted\r\n",
        "x=np.searchsorted(arr,4)\r\n",
        "print(x)"
      ],
      "execution_count": null,
      "outputs": [
        {
          "output_type": "stream",
          "text": [
            "3\n"
          ],
          "name": "stdout"
        }
      ]
    },
    {
      "cell_type": "code",
      "metadata": {
        "colab": {
          "base_uri": "https://localhost:8080/"
        },
        "id": "LAXa008sKPZn",
        "outputId": "a84017de-44e9-4a6d-ae18-a38b88e6820b"
      },
      "source": [
        "# sorting\r\n",
        "arr=np.array([6,8,3,9])\r\n",
        "print(np.sort(arr))"
      ],
      "execution_count": null,
      "outputs": [
        {
          "output_type": "stream",
          "text": [
            "[3 6 8 9]\n"
          ],
          "name": "stdout"
        }
      ]
    },
    {
      "cell_type": "code",
      "metadata": {
        "colab": {
          "base_uri": "https://localhost:8080/"
        },
        "id": "veMZ14NqK6KG",
        "outputId": "ee040ac1-034a-4735-aea6-fa15d19cc1af"
      },
      "source": [
        "arr=np.array(['Hello','Mr.X','Dude'])\r\n",
        "print(np.sort(arr))"
      ],
      "execution_count": null,
      "outputs": [
        {
          "output_type": "stream",
          "text": [
            "['Dude' 'Hello' 'Mr.X']\n"
          ],
          "name": "stdout"
        }
      ]
    },
    {
      "cell_type": "code",
      "metadata": {
        "colab": {
          "base_uri": "https://localhost:8080/"
        },
        "id": "sc28SJ1eMSdY",
        "outputId": "f4ba325e-3f84-4259-d3ce-2b2de2acaaaa"
      },
      "source": [
        "# dataframe to numpy\r\n",
        "import pandas as pd\r\n",
        "df=pd.DataFrame(\r\n",
        "    [[76,98,78],\r\n",
        "    [99,69,78],\r\n",
        "    [98,76,54],\r\n",
        "    [5,6,8]],\r\n",
        "    columns=['a','b','c']\r\n",
        ")\r\n",
        "print(\"Dataframe]\\n\",df)\r\n",
        "arr=df.to_numpy()\r\n",
        "print(\"Numpy\\n\",arr)"
      ],
      "execution_count": null,
      "outputs": [
        {
          "output_type": "stream",
          "text": [
            "Dataframe]\n",
            "     a   b   c\n",
            "0  76  98  78\n",
            "1  99  69  78\n",
            "2  98  76  54\n",
            "3   5   6   8\n",
            "Numpy\n",
            " [[76 98 78]\n",
            " [99 69 78]\n",
            " [98 76 54]\n",
            " [ 5  6  8]]\n"
          ],
          "name": "stdout"
        }
      ]
    }
  ]
}