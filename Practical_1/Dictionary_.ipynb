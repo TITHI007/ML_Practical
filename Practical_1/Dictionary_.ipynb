{
  "nbformat": 4,
  "nbformat_minor": 0,
  "metadata": {
    "colab": {
      "name": "Dictionary_.ipynb",
      "provenance": []
    },
    "kernelspec": {
      "name": "python3",
      "display_name": "Python 3"
    }
  },
  "cells": [
    {
      "cell_type": "code",
      "metadata": {
        "id": "USKeILs23tQZ"
      },
      "source": [
        "#Function on dictonary \r\n",
        "#Author:-Tithi Patel"
      ],
      "execution_count": null,
      "outputs": []
    },
    {
      "cell_type": "code",
      "metadata": {
        "colab": {
          "base_uri": "https://localhost:8080/"
        },
        "id": "QVjP1DYc3xyS",
        "outputId": "1a9898f2-7511-4ce7-822e-5b64ad0f801e"
      },
      "source": [
        "#dictionary \r\n",
        "a={\"name\":\"Tithi\",\"age\":20,\"branch\":\"CSE\",(\"h\",\"w\"):(119,60.5)}\r\n",
        "print(a)"
      ],
      "execution_count": 14,
      "outputs": [
        {
          "output_type": "stream",
          "text": [
            "{'name': 'Tithi', 'age': 20, 'branch': 'CSE', ('h', 'w'): (119, 60.5)}\n"
          ],
          "name": "stdout"
        }
      ]
    },
    {
      "cell_type": "code",
      "metadata": {
        "colab": {
          "base_uri": "https://localhost:8080/"
        },
        "id": "dVgSJl1Q5Lij",
        "outputId": "09b9a114-8b6e-4f64-b7d7-f36f17d48150"
      },
      "source": [
        "#using loop for creating dictionary\n",
        "{x:x**3 for x in (2,4,6,8)}"
      ],
      "execution_count": 4,
      "outputs": [
        {
          "output_type": "execute_result",
          "data": {
            "text/plain": [
              "{2: 8, 4: 64, 6: 216, 8: 512}"
            ]
          },
          "metadata": {
            "tags": []
          },
          "execution_count": 4
        }
      ]
    },
    {
      "cell_type": "code",
      "metadata": {
        "colab": {
          "base_uri": "https://localhost:8080/"
        },
        "id": "1a78y3QmFwim",
        "outputId": "add9180e-21fe-4935-adc8-ccdee9abd5ca"
      },
      "source": [
        "dict(king=444,queen=555,jack=333)"
      ],
      "execution_count": 5,
      "outputs": [
        {
          "output_type": "execute_result",
          "data": {
            "text/plain": [
              "{'jack': 333, 'king': 444, 'queen': 555}"
            ]
          },
          "metadata": {
            "tags": []
          },
          "execution_count": 5
        }
      ]
    },
    {
      "cell_type": "code",
      "metadata": {
        "colab": {
          "base_uri": "https://localhost:8080/"
        },
        "id": "4jeyOmN9GExc",
        "outputId": "73c572b3-a304-46df-c55c-015673e61194"
      },
      "source": [
        "#printing only keys\r\n",
        "print(a.keys())\r\n",
        "#printing only values\r\n",
        "print(a.values())\r\n",
        "#printing only whole key value term\r\n",
        "print(a.items())"
      ],
      "execution_count": 9,
      "outputs": [
        {
          "output_type": "stream",
          "text": [
            "dict_keys(['name', 'age', 'branch', ('h', 'w')])\n",
            "dict_values(['Tithi', 20, 'CSE', (119, 60.5)])\n",
            "dict_items([('name', 'Tithi'), ('age', 20), ('branch', 'CSE'), (('h', 'w'), (119, 60.5))])\n"
          ],
          "name": "stdout"
        }
      ]
    },
    {
      "cell_type": "code",
      "metadata": {
        "colab": {
          "base_uri": "https://localhost:8080/"
        },
        "id": "BRjNDCq1JOzd",
        "outputId": "d7f80163-56b3-4810-d0d3-666388be7fba"
      },
      "source": [
        "#accessing an element by its key\r\n",
        "print(a.get(\"age\"))\r\n",
        "#accessing an elemnet by the key which is not present\r\n",
        "print(a.get(\"ag\"))"
      ],
      "execution_count": 11,
      "outputs": [
        {
          "output_type": "stream",
          "text": [
            "20\n",
            "None\n"
          ],
          "name": "stdout"
        }
      ]
    },
    {
      "cell_type": "code",
      "metadata": {
        "colab": {
          "base_uri": "https://localhost:8080/"
        },
        "id": "KKIXnFdRKhz7",
        "outputId": "bed803e7-cb55-4e65-ebba-7c9674decc26"
      },
      "source": [
        "#removing an element\r\n",
        "print(a.popitem())\r\n",
        "print(a)"
      ],
      "execution_count": 15,
      "outputs": [
        {
          "output_type": "stream",
          "text": [
            "(('h', 'w'), (119, 60.5))\n",
            "{'name': 'Tithi', 'age': 20, 'branch': 'CSE'}\n"
          ],
          "name": "stdout"
        }
      ]
    },
    {
      "cell_type": "code",
      "metadata": {
        "colab": {
          "base_uri": "https://localhost:8080/"
        },
        "id": "zpAuLTJGMk_I",
        "outputId": "563c5223-94a7-4a97-f5ef-561e65d05399"
      },
      "source": [
        "#poping an item using key\r\n",
        "print(a.pop(\"branch\"))\r\n",
        "print(a)"
      ],
      "execution_count": 16,
      "outputs": [
        {
          "output_type": "stream",
          "text": [
            "CSE\n",
            "{'name': 'Tithi', 'age': 20}\n"
          ],
          "name": "stdout"
        }
      ]
    },
    {
      "cell_type": "code",
      "metadata": {
        "colab": {
          "base_uri": "https://localhost:8080/"
        },
        "id": "dlOLc27_N3XO",
        "outputId": "87d2e709-0a71-4193-a53d-85e3736027a1"
      },
      "source": [
        "#inserting an item \r\n",
        "b={(\"h\",\"w\"):(119,60.5)}\r\n",
        "a.update(b)\r\n",
        "print(a)"
      ],
      "execution_count": 19,
      "outputs": [
        {
          "output_type": "stream",
          "text": [
            "{'name': 'Tithi', 'age': 20, ('h', 'w'): (119, 60.5)}\n"
          ],
          "name": "stdout"
        }
      ]
    },
    {
      "cell_type": "code",
      "metadata": {
        "colab": {
          "base_uri": "https://localhost:8080/"
        },
        "id": "VJxetHqQPwmd",
        "outputId": "64ad2ec2-9d23-4499-e72c-13ff6555bfa2"
      },
      "source": [
        "#Updating a value of a dictionary  \r\n",
        "a.update({\"name\":\"Tithi P\"})\r\n",
        "print(a)"
      ],
      "execution_count": 20,
      "outputs": [
        {
          "output_type": "stream",
          "text": [
            "{'name': 'Tithi P', 'age': 20, ('h', 'w'): (119, 60.5)}\n"
          ],
          "name": "stdout"
        }
      ]
    },
    {
      "cell_type": "code",
      "metadata": {
        "colab": {
          "base_uri": "https://localhost:8080/"
        },
        "id": "wr06xLhfQb0N",
        "outputId": "2a2c7885-9f5c-4afd-c79b-99117801b9d6"
      },
      "source": [
        "#accessing a tuple element from dictionary\r\n",
        "print(a[('h','w')])\r\n",
        "print(a[('h','w')][0])"
      ],
      "execution_count": 24,
      "outputs": [
        {
          "output_type": "stream",
          "text": [
            "(119, 60.5)\n",
            "119\n"
          ],
          "name": "stdout"
        }
      ]
    }
  ]
}