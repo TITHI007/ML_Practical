{
  "nbformat": 4,
  "nbformat_minor": 0,
  "metadata": {
    "colab": {
      "name": "DataFrame_.ipynb",
      "provenance": [],
      "collapsed_sections": []
    },
    "kernelspec": {
      "name": "python3",
      "display_name": "Python 3"
    }
  },
  "cells": [
    {
      "cell_type": "code",
      "metadata": {
        "id": "H2zVHnCl-tC0"
      },
      "source": [
        "#DataFrame \r\n",
        "#Author:-Tithi Patel"
      ],
      "execution_count": null,
      "outputs": []
    },
    {
      "cell_type": "code",
      "metadata": {
        "colab": {
          "base_uri": "https://localhost:8080/"
        },
        "id": "AV9DUVmO9MWO",
        "outputId": "f41fe78b-95fd-41c0-c092-e527fa599de9"
      },
      "source": [
        "#Dataframe using List\r\n",
        "import pandas as p\r\n",
        "\r\n",
        "l=[\"Hello\",\"World\",\"Hii\",\"Python\"]\r\n",
        "print(l)\r\n",
        "df=p.DataFrame(l,columns=[\"strings\"])\r\n",
        "print(df)"
      ],
      "execution_count": 2,
      "outputs": [
        {
          "output_type": "stream",
          "text": [
            "['Hello', 'World', 'Hii', 'Python']\n",
            "  strings\n",
            "0   Hello\n",
            "1   World\n",
            "2     Hii\n",
            "3  Python\n"
          ],
          "name": "stdout"
        }
      ]
    },
    {
      "cell_type": "code",
      "metadata": {
        "colab": {
          "base_uri": "https://localhost:8080/"
        },
        "id": "voOTo-YY_ADO",
        "outputId": "71ba73d3-2486-4b99-9bd6-8baa38d6d1a0"
      },
      "source": [
        "#list inside list and dataframe\r\n",
        "d=[[\"XYZ\",20],[\"WXY\",21],[\"VWX\",23]]\r\n",
        "print(d)\r\n",
        "daf=p.DataFrame(d,columns=[\"name\",\"age\"],dtype=float)\r\n",
        "print(daf)"
      ],
      "execution_count": 4,
      "outputs": [
        {
          "output_type": "stream",
          "text": [
            "[['XYZ', 20], ['WXY', 21], ['VWX', 23]]\n",
            "  name   age\n",
            "0  XYZ  20.0\n",
            "1  WXY  21.0\n",
            "2  VWX  23.0\n"
          ],
          "name": "stdout"
        }
      ]
    },
    {
      "cell_type": "code",
      "metadata": {
        "colab": {
          "base_uri": "https://localhost:8080/"
        },
        "id": "LUfq09ibBNSI",
        "outputId": "e7b467eb-9fc0-4a7f-d64f-c3d5fbe18454"
      },
      "source": [
        "#Dataframe using Dictionary\r\n",
        "emp={\"Name\":['ABC','BCD','CDE'],\"age\":[22,23,24],\"address\":['Gujarat','Goa','Sikkim']}\r\n",
        "print(emp)\r\n",
        "print(\"----------------------------------------------------------\")\r\n",
        "empfr=p.DataFrame(emp)\r\n",
        "print(empfr)\r\n",
        "print(\"----------------------------------------------------------\")\r\n",
        "#indexing dataframe\r\n",
        "empfr=p.DataFrame(emp,index=['rank1','rank2','rank3'])\r\n",
        "print(empfr)\r\n",
        "print(\"----------------------------------------------------------\")\r\n",
        "# column are named differently\r\n",
        "empfr2=p.DataFrame(emp,index=['ranking1','ranking2','ranking3'],columns=['Name','A','AD'])\r\n",
        "print(empfr2)\r\n",
        "print(\"----------------------------------------------------------\")"
      ],
      "execution_count": 13,
      "outputs": [
        {
          "output_type": "stream",
          "text": [
            "{'Name': ['ABC', 'BCD', 'CDE'], 'age': [22, 23, 24], 'address': ['Gujarat', 'Goa', 'Sikkim']}\n",
            "----------------------------------------------------------\n",
            "  Name  age  address\n",
            "0  ABC   22  Gujarat\n",
            "1  BCD   23      Goa\n",
            "2  CDE   24   Sikkim\n",
            "----------------------------------------------------------\n",
            "      Name  age  address\n",
            "rank1  ABC   22  Gujarat\n",
            "rank2  BCD   23      Goa\n",
            "rank3  CDE   24   Sikkim\n",
            "----------------------------------------------------------\n",
            "         Name    A   AD\n",
            "ranking1  ABC  NaN  NaN\n",
            "ranking2  BCD  NaN  NaN\n",
            "ranking3  CDE  NaN  NaN\n",
            "----------------------------------------------------------\n"
          ],
          "name": "stdout"
        }
      ]
    },
    {
      "cell_type": "code",
      "metadata": {
        "colab": {
          "base_uri": "https://localhost:8080/"
        },
        "id": "8DK6jTSpIgTj",
        "outputId": "5f723a5c-3339-4290-e833-5926b70f1a50"
      },
      "source": [
        "# dataframe using dictionary series\r\n",
        "data={'one':p.Series([1,2,3],index=['a','b','c']),'two':p.Series([1,2,3,4],index=['a','b','c','d'])}\r\n",
        "dfr=p.DataFrame(data)\r\n",
        "print(p.DataFrame(data))\r\n",
        "print(\"----------------------------------------------------------\")\r\n",
        "#coloum selection\r\n",
        "print((p.DataFrame(data))['one'])\r\n",
        "print(\"----------------------------------------------------------\")\r\n",
        "# adding a new column\r\n",
        "dfr['three']=p.Series([10,20,30],index=['a','b','c'])\r\n",
        "print(dfr)\r\n",
        "print(\"----------------------------------------------------------\")\r\n",
        "#deleting column\r\n",
        "del dfr['one']\r\n",
        "print(dfr)\r\n",
        "print(\"----------------------------------------------------------\")\r\n",
        "# row selection\r\n",
        "print(dfr.loc['b'])\r\n",
        "print(\"----------------------------------------------------------\")\r\n",
        "# adding a new row\r\n",
        "data2=p.DataFrame([[1,2],[3,4]],columns=['two','three'])\r\n",
        "dfr=dfr.append(data2)\r\n",
        "print(dfr)\r\n",
        "print(\"----------------------------------------------------------\")\r\n",
        "# deletion of rows\r\n",
        "dfr=dfr.drop(0)\r\n",
        "print(dfr)"
      ],
      "execution_count": 38,
      "outputs": [
        {
          "output_type": "stream",
          "text": [
            "   one  two\n",
            "a  1.0    1\n",
            "b  2.0    2\n",
            "c  3.0    3\n",
            "d  NaN    4\n",
            "----------------------------------------------------------\n",
            "a    1.0\n",
            "b    2.0\n",
            "c    3.0\n",
            "d    NaN\n",
            "Name: one, dtype: float64\n",
            "----------------------------------------------------------\n",
            "   one  two  three\n",
            "a  1.0    1   10.0\n",
            "b  2.0    2   20.0\n",
            "c  3.0    3   30.0\n",
            "d  NaN    4    NaN\n",
            "----------------------------------------------------------\n",
            "   two  three\n",
            "a    1   10.0\n",
            "b    2   20.0\n",
            "c    3   30.0\n",
            "d    4    NaN\n",
            "----------------------------------------------------------\n",
            "two       2.0\n",
            "three    20.0\n",
            "Name: b, dtype: float64\n",
            "----------------------------------------------------------\n",
            "   two  three\n",
            "a    1   10.0\n",
            "b    2   20.0\n",
            "c    3   30.0\n",
            "d    4    NaN\n",
            "0    1    2.0\n",
            "1    3    4.0\n",
            "----------------------------------------------------------\n",
            "   two  three\n",
            "a    1   10.0\n",
            "b    2   20.0\n",
            "c    3   30.0\n",
            "d    4    NaN\n",
            "1    3    4.0\n"
          ],
          "name": "stdout"
        }
      ]
    }
  ]
}