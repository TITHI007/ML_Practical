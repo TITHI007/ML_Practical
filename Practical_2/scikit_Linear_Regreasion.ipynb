{
  "nbformat": 4,
  "nbformat_minor": 0,
  "metadata": {
    "colab": {
      "name": "scikit_Linear Regreasion.ipynb",
      "provenance": []
    },
    "kernelspec": {
      "name": "python3",
      "display_name": "Python 3"
    }
  },
  "cells": [
    {
      "cell_type": "code",
      "metadata": {
        "id": "NT_-HpBVbeIc"
      },
      "source": [
        "import pandas as pd\r\n",
        "import numpy as np\r\n",
        "from sklearn import linear_model\r\n",
        "from sklearn.model_selection import train_test_split\r\n",
        "import seaborn as sns\r\n",
        "from sklearn import metrics\r\n",
        "import matplotlib.pyplot as plt\r\n",
        "%matplotlib inline"
      ],
      "execution_count": 1,
      "outputs": []
    },
    {
      "cell_type": "code",
      "metadata": {
        "colab": {
          "base_uri": "https://localhost:8080/",
          "height": 296
        },
        "id": "E3zKP1ZXkapv",
        "outputId": "79a84fc9-0c1e-49c3-df22-a35d954d95fe"
      },
      "source": [
        "df = pd.read_csv('bike.csv')\r\n",
        "df.head()"
      ],
      "execution_count": 5,
      "outputs": [
        {
          "output_type": "execute_result",
          "data": {
            "text/html": [
              "<div>\n",
              "<style scoped>\n",
              "    .dataframe tbody tr th:only-of-type {\n",
              "        vertical-align: middle;\n",
              "    }\n",
              "\n",
              "    .dataframe tbody tr th {\n",
              "        vertical-align: top;\n",
              "    }\n",
              "\n",
              "    .dataframe thead th {\n",
              "        text-align: right;\n",
              "    }\n",
              "</style>\n",
              "<table border=\"1\" class=\"dataframe\">\n",
              "  <thead>\n",
              "    <tr style=\"text-align: right;\">\n",
              "      <th></th>\n",
              "      <th>Unnamed: 0</th>\n",
              "      <th>Date</th>\n",
              "      <th>Day</th>\n",
              "      <th>High Temp (°F)</th>\n",
              "      <th>Low Temp (°F)</th>\n",
              "      <th>Precipitation</th>\n",
              "      <th>Brooklyn Bridge</th>\n",
              "      <th>Manhattan Bridge</th>\n",
              "      <th>Williamsburg Bridge</th>\n",
              "      <th>Queensboro Bridge</th>\n",
              "      <th>Total</th>\n",
              "    </tr>\n",
              "  </thead>\n",
              "  <tbody>\n",
              "    <tr>\n",
              "      <th>0</th>\n",
              "      <td>0</td>\n",
              "      <td>2016-04-01 00:00:00</td>\n",
              "      <td>2016-04-01 00:00:00</td>\n",
              "      <td>78.1</td>\n",
              "      <td>66.0</td>\n",
              "      <td>0.01</td>\n",
              "      <td>1704.0</td>\n",
              "      <td>3126</td>\n",
              "      <td>4115.0</td>\n",
              "      <td>2552.0</td>\n",
              "      <td>11497</td>\n",
              "    </tr>\n",
              "    <tr>\n",
              "      <th>1</th>\n",
              "      <td>1</td>\n",
              "      <td>2016-04-02 00:00:00</td>\n",
              "      <td>2016-04-02 00:00:00</td>\n",
              "      <td>55.0</td>\n",
              "      <td>48.9</td>\n",
              "      <td>0.15</td>\n",
              "      <td>827.0</td>\n",
              "      <td>1646</td>\n",
              "      <td>2565.0</td>\n",
              "      <td>1884.0</td>\n",
              "      <td>6922</td>\n",
              "    </tr>\n",
              "    <tr>\n",
              "      <th>2</th>\n",
              "      <td>2</td>\n",
              "      <td>2016-04-03 00:00:00</td>\n",
              "      <td>2016-04-03 00:00:00</td>\n",
              "      <td>39.9</td>\n",
              "      <td>34.0</td>\n",
              "      <td>0.09</td>\n",
              "      <td>526.0</td>\n",
              "      <td>1232</td>\n",
              "      <td>1695.0</td>\n",
              "      <td>1306.0</td>\n",
              "      <td>4759</td>\n",
              "    </tr>\n",
              "    <tr>\n",
              "      <th>3</th>\n",
              "      <td>3</td>\n",
              "      <td>2016-04-04 00:00:00</td>\n",
              "      <td>2016-04-04 00:00:00</td>\n",
              "      <td>44.1</td>\n",
              "      <td>33.1</td>\n",
              "      <td>0.47 (S)</td>\n",
              "      <td>521.0</td>\n",
              "      <td>1067</td>\n",
              "      <td>1440.0</td>\n",
              "      <td>1307.0</td>\n",
              "      <td>4335</td>\n",
              "    </tr>\n",
              "    <tr>\n",
              "      <th>4</th>\n",
              "      <td>4</td>\n",
              "      <td>2016-04-05 00:00:00</td>\n",
              "      <td>2016-04-05 00:00:00</td>\n",
              "      <td>42.1</td>\n",
              "      <td>26.1</td>\n",
              "      <td>0</td>\n",
              "      <td>1416.0</td>\n",
              "      <td>2617</td>\n",
              "      <td>3081.0</td>\n",
              "      <td>2357.0</td>\n",
              "      <td>9471</td>\n",
              "    </tr>\n",
              "  </tbody>\n",
              "</table>\n",
              "</div>"
            ],
            "text/plain": [
              "   Unnamed: 0                 Date  ... Queensboro Bridge  Total\n",
              "0           0  2016-04-01 00:00:00  ...            2552.0  11497\n",
              "1           1  2016-04-02 00:00:00  ...            1884.0   6922\n",
              "2           2  2016-04-03 00:00:00  ...            1306.0   4759\n",
              "3           3  2016-04-04 00:00:00  ...            1307.0   4335\n",
              "4           4  2016-04-05 00:00:00  ...            2357.0   9471\n",
              "\n",
              "[5 rows x 11 columns]"
            ]
          },
          "metadata": {
            "tags": []
          },
          "execution_count": 5
        }
      ]
    },
    {
      "cell_type": "code",
      "metadata": {
        "colab": {
          "base_uri": "https://localhost:8080/"
        },
        "id": "GFk6EvAWk1mj",
        "outputId": "577742a8-5997-4eeb-862c-5c215fa93c49"
      },
      "source": [
        "df.info()"
      ],
      "execution_count": 7,
      "outputs": [
        {
          "output_type": "stream",
          "text": [
            "<class 'pandas.core.frame.DataFrame'>\n",
            "RangeIndex: 210 entries, 0 to 209\n",
            "Data columns (total 11 columns):\n",
            " #   Column               Non-Null Count  Dtype  \n",
            "---  ------               --------------  -----  \n",
            " 0   Unnamed: 0           210 non-null    int64  \n",
            " 1   Date                 210 non-null    object \n",
            " 2   Day                  210 non-null    object \n",
            " 3   High Temp (°F)       210 non-null    float64\n",
            " 4   Low Temp (°F)        210 non-null    float64\n",
            " 5   Precipitation        210 non-null    object \n",
            " 6   Brooklyn Bridge      210 non-null    float64\n",
            " 7   Manhattan Bridge     210 non-null    int64  \n",
            " 8   Williamsburg Bridge  210 non-null    float64\n",
            " 9   Queensboro Bridge    210 non-null    float64\n",
            " 10  Total                210 non-null    int64  \n",
            "dtypes: float64(5), int64(3), object(3)\n",
            "memory usage: 18.2+ KB\n"
          ],
          "name": "stdout"
        }
      ]
    },
    {
      "cell_type": "code",
      "metadata": {
        "colab": {
          "base_uri": "https://localhost:8080/",
          "height": 458
        },
        "id": "ibriqS-PlbBl",
        "outputId": "b052fd3d-8c18-487d-9b2b-b1c1a1595e18"
      },
      "source": [
        "sns.jointplot(x=df['High Temp (°F)'], y=df['Total'], data=df, kind='reg')"
      ],
      "execution_count": 8,
      "outputs": [
        {
          "output_type": "execute_result",
          "data": {
            "text/plain": [
              "<seaborn.axisgrid.JointGrid at 0x7f2cfb12b5c0>"
            ]
          },
          "metadata": {
            "tags": []
          },
          "execution_count": 8
        },
        {
          "output_type": "display_data",
          "data": {
            "image/png": "[encoded data removed]",
            "text/plain": [
              "<Figure size 432x432 with 3 Axes>"
            ]
          },
          "metadata": {
            "tags": [],
            "needs_background": "light"
          }
        }
      ]
    },
    {
      "cell_type": "code",
      "metadata": {
        "colab": {
          "base_uri": "https://localhost:8080/",
          "height": 458
        },
        "id": "xNyi6gqNllYB",
        "outputId": "02a78602-4c04-4556-ae3d-7f0f0cd6ebbb"
      },
      "source": [
        "sns.jointplot(x=df['Low Temp (°F)'], y=df['Total'], data=df, kind='reg')"
      ],
      "execution_count": 9,
      "outputs": [
        {
          "output_type": "execute_result",
          "data": {
            "text/plain": [
              "<seaborn.axisgrid.JointGrid at 0x7f2cfb12b4e0>"
            ]
          },
          "metadata": {
            "tags": []
          },
          "execution_count": 9
        },
        {
          "output_type": "display_data",
          "data": {
            "image/png": "[encoded data removed]",
            "text/plain": [
              "<Figure size 432x432 with 3 Axes>"
            ]
          },
          "metadata": {
            "tags": [],
            "needs_background": "light"
          }
        }
      ]
    },
    {
      "cell_type": "code",
      "metadata": {
        "colab": {
          "base_uri": "https://localhost:8080/"
        },
        "id": "EPNTeirDqFTv",
        "outputId": "07ab660a-abc1-4260-f3df-3b5f3cae810b"
      },
      "source": [
        "X= df[['Low Temp (°F)']]\r\n",
        "\r\n",
        "Y=df[['Total']]\r\n",
        "Y.info()"
      ],
      "execution_count": 11,
      "outputs": [
        {
          "output_type": "stream",
          "text": [
            "<class 'pandas.core.frame.DataFrame'>\n",
            "RangeIndex: 210 entries, 0 to 209\n",
            "Data columns (total 1 columns):\n",
            " #   Column  Non-Null Count  Dtype\n",
            "---  ------  --------------  -----\n",
            " 0   Total   210 non-null    int64\n",
            "dtypes: int64(1)\n",
            "memory usage: 1.8 KB\n"
          ],
          "name": "stdout"
        }
      ]
    },
    {
      "cell_type": "code",
      "metadata": {
        "colab": {
          "base_uri": "https://localhost:8080/"
        },
        "id": "z37y5NN8poEf",
        "outputId": "417f5863-9f64-4509-f94f-7f1895dbd0c4"
      },
      "source": [
        "x_train, x_test, y_train, y_test = train_test_split(X, Y, test_size=0.2, random_state=42)\r\n",
        "x_train=x_train['Low Temp (°F)'].to_numpy()\r\n",
        "x_test=x_test['Low Temp (°F)'].to_numpy()\r\n",
        "y_train=y_train['Total'].to_numpy()\r\n",
        "y_test=y_test['Total'].to_numpy()\r\n",
        "\r\n",
        "\r\n",
        "\r\n",
        "x_train = np.reshape(x_train, (-1,1))\r\n",
        "x_test = np.reshape(x_test, (-1,1))\r\n",
        "y_train = np.reshape(y_train, (-1,1))\r\n",
        "y_test = np.reshape(y_test, (-1,1))\r\n",
        "\r\n",
        "#\r\n",
        "print('Train - Predictors shape', x_train.shape)\r\n",
        "print('Test - Predictors shape', x_test.shape)\r\n",
        "print('Train - Target shape', y_train.shape)\r\n",
        "print('Test - Target shape', y_test.shape)"
      ],
      "execution_count": 12,
      "outputs": [
        {
          "output_type": "stream",
          "text": [
            "Train - Predictors shape (168, 1)\n",
            "Test - Predictors shape (42, 1)\n",
            "Train - Target shape (168, 1)\n",
            "Test - Target shape (42, 1)\n"
          ],
          "name": "stdout"
        }
      ]
    },
    {
      "cell_type": "code",
      "metadata": {
        "colab": {
          "base_uri": "https://localhost:8080/"
        },
        "id": "MhasS8H0qbJS",
        "outputId": "1b946fdd-ecef-4611-e8c5-b2a456f1d087"
      },
      "source": [
        "cls = linear_model.LinearRegression()\r\n",
        "cls.fit(x_train,y_train)"
      ],
      "execution_count": 13,
      "outputs": [
        {
          "output_type": "execute_result",
          "data": {
            "text/plain": [
              "LinearRegression(copy_X=True, fit_intercept=True, n_jobs=None, normalize=False)"
            ]
          },
          "metadata": {
            "tags": []
          },
          "execution_count": 13
        }
      ]
    },
    {
      "cell_type": "code",
      "metadata": {
        "colab": {
          "base_uri": "https://localhost:8080/"
        },
        "id": "PpM0pQZQqyzc",
        "outputId": "00dc7f58-59fc-4863-c063-37499271ea90"
      },
      "source": [
        "prediction = cls.predict(x_test)\r\n",
        "cls.get_params()"
      ],
      "execution_count": 15,
      "outputs": [
        {
          "output_type": "execute_result",
          "data": {
            "text/plain": [
              "{'copy_X': True, 'fit_intercept': True, 'n_jobs': None, 'normalize': False}"
            ]
          },
          "metadata": {
            "tags": []
          },
          "execution_count": 15
        }
      ]
    },
    {
      "cell_type": "code",
      "metadata": {
        "id": "laargzbYrDna"
      },
      "source": [
        "def theta_calc(x_train, y_train):\r\n",
        "    #Initializing all variables\r\n",
        "    n_data = x_train.shape[0]\r\n",
        "    \r\n",
        "    bias = np.ones((n_data,1))\r\n",
        "    x_train_b = np.append(bias, x_train, axis=1)\r\n",
        "    #\r\n",
        "    theta_1 = np.linalg.inv(np.dot(x_train_b.T,x_train_b))\r\n",
        "    theta_2 = np.dot(theta_1, x_train_b.T)\r\n",
        "    theta = np.dot(theta_2,y_train)\r\n",
        "    #\r\n",
        "    return theta"
      ],
      "execution_count": 16,
      "outputs": []
    },
    {
      "cell_type": "code",
      "metadata": {
        "id": "9Y9ayUiorIms"
      },
      "source": [
        "def predict_func(slope,intercept,x_test):\r\n",
        "    #\r\n",
        "    pred = []\r\n",
        "    n_data = x_test.shape[0]\r\n",
        "    for i in range(n_data):\r\n",
        "\r\n",
        "        #pred.append((slope * x_test.iloc[i]['TV']) + intercept)\r\n",
        "        pred.append((slope * x_test[i] + intercept))\r\n",
        "             \r\n",
        "    return pred"
      ],
      "execution_count": 17,
      "outputs": []
    },
    {
      "cell_type": "code",
      "metadata": {
        "id": "SxBjuWIxrKY-"
      },
      "source": [
        "def mse_calc(prediction, y_test):\r\n",
        "    #\r\n",
        "    total_data = len(prediction)\r\n",
        "    error = 0\r\n",
        "    error = (np.sum((prediction - y_test)**2))/total_data\r\n",
        "    return error\r\n",
        "def rsq(prediction, y_test):\r\n",
        "    #\r\n",
        "    total_data = len(prediction)\r\n",
        "    #Average of total prediction \r\n",
        "    y_avg = np.sum(y_test)/total_data\r\n",
        "    #total sum of square error\r\n",
        "    tot_err = np.sum((y_test-y_avg)**2)\r\n",
        "    #total sum of squared error of residuals\r\n",
        "    res_err = np.sum((y_test-prediction)**2)\r\n",
        "    #\r\n",
        "    r2 = 1 - (res_err / tot_err)\r\n",
        "    return r2"
      ],
      "execution_count": 19,
      "outputs": []
    },
    {
      "cell_type": "code",
      "metadata": {
        "colab": {
          "base_uri": "https://localhost:8080/"
        },
        "id": "xPec55KerTyo",
        "outputId": "8f9d67e2-0f8a-41a1-833d-3d69569d955c"
      },
      "source": [
        "theta = theta_calc(x_train, y_train)\r\n",
        "intercept = theta[0]\r\n",
        "slope = theta[1]\r\n",
        "print('Intercept of the model', intercept)\r\n",
        "print('Slope of the model', slope)\r\n",
        "#Prediction calculation\r\n",
        "prediction = predict_func(slope, intercept, x_test)\r\n",
        "#MSE calculation\r\n",
        "#pred_df = pd.DataFrame(prediction)\r\n",
        "#pred_df.columns=['sales']\r\n",
        "#error =  mse_calc(prediction, y_test)\r\n",
        "error =  mse_calc(prediction, y_test)\r\n",
        "\r\n",
        "print('Mean squared error of the model', error)\r\n",
        "#R-square calculation\r\n",
        "r2_val = rsq(prediction, y_test)\r\n",
        "print('R squared value', r2_val)"
      ],
      "execution_count": 20,
      "outputs": [
        {
          "output_type": "stream",
          "text": [
            "Intercept of the model [-530.74482128]\n",
            "Slope of the model [322.62816163]\n",
            "Mean squared error of the model 22650141.266803168\n",
            "R squared value 0.05505317554442701\n"
          ],
          "name": "stdout"
        }
      ]
    }
  ]
}